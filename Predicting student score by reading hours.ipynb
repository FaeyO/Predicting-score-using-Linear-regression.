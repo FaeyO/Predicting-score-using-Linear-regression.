{
 "cells": [
  {
   "cell_type": "markdown",
   "id": "40b39761",
   "metadata": {},
   "source": [
    "## Predicting percentage score of a student based on study hours using supervised Machine learning"
   ]
  },
  {
   "cell_type": "code",
   "execution_count": 1,
   "id": "c84ecee3",
   "metadata": {},
   "outputs": [],
   "source": [
    "#import modules\n",
    "import pandas as pd\n",
    "import numpy as np\n",
    "import matplotlib.pyplot as plt\n",
    "import seaborn as sns"
   ]
  },
  {
   "cell_type": "code",
   "execution_count": 2,
   "id": "0583ed3b",
   "metadata": {},
   "outputs": [
    {
     "data": {
      "text/html": [
       "<div>\n",
       "<style scoped>\n",
       "    .dataframe tbody tr th:only-of-type {\n",
       "        vertical-align: middle;\n",
       "    }\n",
       "\n",
       "    .dataframe tbody tr th {\n",
       "        vertical-align: top;\n",
       "    }\n",
       "\n",
       "    .dataframe thead th {\n",
       "        text-align: right;\n",
       "    }\n",
       "</style>\n",
       "<table border=\"1\" class=\"dataframe\">\n",
       "  <thead>\n",
       "    <tr style=\"text-align: right;\">\n",
       "      <th></th>\n",
       "      <th>Hours</th>\n",
       "      <th>Scores</th>\n",
       "    </tr>\n",
       "  </thead>\n",
       "  <tbody>\n",
       "    <tr>\n",
       "      <th>0</th>\n",
       "      <td>2.5</td>\n",
       "      <td>21</td>\n",
       "    </tr>\n",
       "    <tr>\n",
       "      <th>1</th>\n",
       "      <td>5.1</td>\n",
       "      <td>47</td>\n",
       "    </tr>\n",
       "    <tr>\n",
       "      <th>2</th>\n",
       "      <td>3.2</td>\n",
       "      <td>27</td>\n",
       "    </tr>\n",
       "    <tr>\n",
       "      <th>3</th>\n",
       "      <td>8.5</td>\n",
       "      <td>75</td>\n",
       "    </tr>\n",
       "    <tr>\n",
       "      <th>4</th>\n",
       "      <td>3.5</td>\n",
       "      <td>30</td>\n",
       "    </tr>\n",
       "  </tbody>\n",
       "</table>\n",
       "</div>"
      ],
      "text/plain": [
       "   Hours  Scores\n",
       "0    2.5      21\n",
       "1    5.1      47\n",
       "2    3.2      27\n",
       "3    8.5      75\n",
       "4    3.5      30"
      ]
     },
     "execution_count": 2,
     "metadata": {},
     "output_type": "execute_result"
    }
   ],
   "source": [
    "#importing the data \n",
    "scores_df = pd.read_csv('http://bit.ly/w-data')\n",
    "scores_df.head()"
   ]
  },
  {
   "cell_type": "markdown",
   "id": "033597f0",
   "metadata": {},
   "source": [
    "**From the table above ,there are two columns for the hours a student spend reading and the student score.**\n",
    "\n",
    "**Before using machine model on the data I will first of all explore the data using graph to show if there's any relationship between both variables.**"
   ]
  },
  {
   "cell_type": "code",
   "execution_count": 3,
   "id": "4ca40e5d",
   "metadata": {},
   "outputs": [
    {
     "data": {
      "image/png": "[encoded data removed]",
      "text/plain": [
       "<Figure size 640x480 with 1 Axes>"
      ]
     },
     "metadata": {},
     "output_type": "display_data"
    }
   ],
   "source": [
    "sns.set_style('dark')\n",
    "\n",
    "sns.scatterplot(x='Hours', y='Scores', data=scores_df)\n",
    "plt.title('Study Hours vs Student Scores')\n",
    "plt.show()"
   ]
  },
  {
   "cell_type": "markdown",
   "id": "a64af738",
   "metadata": {},
   "source": [
    "**From the graph we can see that there is a linear relationship between both variables ,as the number of study hours increased the scores of the students increased.**"
   ]
  },
  {
   "cell_type": "markdown",
   "id": "62e6aa37",
   "metadata": {},
   "source": [
    "**Next, I will be exploring the value of correlation between both variables.**"
   ]
  },
  {
   "cell_type": "code",
   "execution_count": 4,
   "id": "65466b74",
   "metadata": {},
   "outputs": [
    {
     "name": "stdout",
     "output_type": "stream",
     "text": [
      "[[1.         0.97619066]\n",
      " [0.97619066 1.        ]]\n"
     ]
    }
   ],
   "source": [
    "#correlation of the variable\n",
    "corr_val = np.corrcoef(scores_df['Hours'],scores_df['Scores'])\n",
    "print(corr_val)"
   ]
  },
  {
   "cell_type": "markdown",
   "id": "78d8acea",
   "metadata": {},
   "source": [
    "**Both variables are strongly positive correlated i.e as study hours increase student scores also increases this therefore affirms the graph shown above**"
   ]
  },
  {
   "cell_type": "markdown",
   "id": "8df27b64",
   "metadata": {},
   "source": [
    "**Next, I will be using a Linear Regression model on the data**"
   ]
  },
  {
   "cell_type": "code",
   "execution_count": 5,
   "id": "e4a72866",
   "metadata": {},
   "outputs": [],
   "source": [
    "#importing required package\n",
    "\n",
    "from sklearn.linear_model import LinearRegression\n",
    "from sklearn.metrics import mean_squared_error as MSE\n",
    "from sklearn.model_selection import train_test_split"
   ]
  },
  {
   "cell_type": "code",
   "execution_count": 6,
   "id": "22dd0a2b",
   "metadata": {},
   "outputs": [],
   "source": [
    "X_feature = scores_df['Hours'].values.reshape(-1,1)\n",
    "y_target = scores_df['Scores'].values\n",
    "\n",
    "X_train,X_test,y_train,y_test = train_test_split(X_feature, y_target, test_size=0.1, random_state=24)"
   ]
  },
  {
   "cell_type": "code",
   "execution_count": 7,
   "id": "2f96bf79",
   "metadata": {},
   "outputs": [],
   "source": [
    "lin_reg = LinearRegression()\n",
    "fit_model = lin_reg.fit(X_train, y_train)"
   ]
  },
  {
   "cell_type": "code",
   "execution_count": 8,
   "id": "4135f6e6",
   "metadata": {},
   "outputs": [
    {
     "name": "stdout",
     "output_type": "stream",
     "text": [
      "R-squared score:  0.9498017373462783\n",
      "intercept : 1.9440584332374584\n"
     ]
    }
   ],
   "source": [
    "#R-suared value\n",
    "score = fit_model.score(X_train, y_train)\n",
    "print('R-squared score: ' ,score)\n",
    "\n",
    "#intercept value\n",
    "intercept_val = fit_model.intercept_\n",
    "print('intercept :', intercept_val)"
   ]
  },
  {
   "cell_type": "code",
   "execution_count": 16,
   "id": "004b6818",
   "metadata": {},
   "outputs": [
    {
     "data": {
      "image/png": "[encoded data removed]",
      "text/plain": [
       "<Figure size 640x480 with 1 Axes>"
      ]
     },
     "metadata": {},
     "output_type": "display_data"
    }
   ],
   "source": [
    "#Plotting the regression line\n",
    "sns.regplot(x='Hours', y='Scores', data=scores_df, ci=None)\n",
    "plt.show()"
   ]
  },
  {
   "cell_type": "code",
   "execution_count": 10,
   "id": "6304f293",
   "metadata": {},
   "outputs": [
    {
     "name": "stdout",
     "output_type": "stream",
     "text": [
      "predict:  [26.7899308  93.37686875 39.70978443]\n"
     ]
    }
   ],
   "source": [
    "#make prediction on test dataset\n",
    "predict = fit_model.predict(X_test)\n",
    "print('predict: ', predict)"
   ]
  },
  {
   "cell_type": "markdown",
   "id": "5d497446",
   "metadata": {},
   "source": [
    "### Evaluating the model\n",
    "\n",
    "**The final step is to evaluate the performance of algorithm. This step is particularly important to compare how well different algorithms perform on a particular dataset. For simplicity here, we have chosen the root mean square error. There are many such metrics.**"
   ]
  },
  {
   "cell_type": "code",
   "execution_count": 14,
   "id": "9721d872",
   "metadata": {},
   "outputs": [
    {
     "name": "stdout",
     "output_type": "stream",
     "text": [
      "RMSE:  20.465777087183707\n"
     ]
    }
   ],
   "source": [
    "#mse score\n",
    "RMSE_score = MSE(y_test,predict,squared=True)\n",
    "print('RMSE: ',RMSE_score)"
   ]
  },
  {
   "cell_type": "markdown",
   "id": "93d34e8c",
   "metadata": {},
   "source": [
    "### What will be the predicted score if a student studies for 9.25hours per day"
   ]
  },
  {
   "cell_type": "code",
   "execution_count": 11,
   "id": "67cfcc67",
   "metadata": {},
   "outputs": [
    {
     "data": {
      "text/plain": [
       "array([93.8737862])"
      ]
     },
     "execution_count": 11,
     "metadata": {},
     "output_type": "execute_result"
    }
   ],
   "source": [
    "#test variable \n",
    "test_var = np.array([[9.25]])\n",
    "#predict on test variable\n",
    "fit_model.predict(test_var)"
   ]
  },
  {
   "cell_type": "markdown",
   "id": "6fa204eb",
   "metadata": {},
   "source": [
    "**A student who studies for 9.25hours will score 92.9098**"
   ]
  },
  {
   "cell_type": "code",
   "execution_count": null,
   "id": "316c7e83",
   "metadata": {},
   "outputs": [],
   "source": []
  }
 ],
 "metadata": {
  "hide_input": false,
  "kernelspec": {
   "display_name": "Python 3 (ipykernel)",
   "language": "python",
   "name": "python3"
  },
  "language_info": {
   "codemirror_mode": {
    "name": "ipython",
    "version": 3
   },
   "file_extension": ".py",
   "mimetype": "text/x-python",
   "name": "python",
   "nbconvert_exporter": "python",
   "pygments_lexer": "ipython3",
   "version": "3.9.13"
  }
 },
 "nbformat": 4,
 "nbformat_minor": 5
}
